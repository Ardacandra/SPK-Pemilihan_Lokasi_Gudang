{
 "metadata": {
  "language_info": {
   "codemirror_mode": {
    "name": "ipython",
    "version": 3
   },
   "file_extension": ".py",
   "mimetype": "text/x-python",
   "name": "python",
   "nbconvert_exporter": "python",
   "pygments_lexer": "ipython3",
   "version": "3.8.3"
  },
  "orig_nbformat": 2,
  "kernelspec": {
   "name": "python3",
   "display_name": "Python 3.8.3 64-bit",
   "metadata": {
    "interpreter": {
     "hash": "7ec3019a7cb8f5739f8b27d55fc304c51580b268fd2b34191f81e31e11772118"
    }
   }
  }
 },
 "nbformat": 4,
 "nbformat_minor": 2,
 "cells": [
  {
   "cell_type": "code",
   "execution_count": 2,
   "metadata": {},
   "outputs": [],
   "source": [
    "import numpy as np \n",
    "import pandas as pd \n",
    "import math "
   ]
  },
  {
   "cell_type": "code",
   "execution_count": 3,
   "metadata": {},
   "outputs": [
    {
     "output_type": "execute_result",
     "data": {
      "text/plain": [
       "   jarak_pasar  kepadatan_penduduk  jarak_pabrik  jarak_gudang  harga_tanah\n",
       "0         0.75                2000            18            50          500\n",
       "1         0.50                1500            20            40          450\n",
       "2         0.90                2050            35            35          800"
      ],
      "text/html": "<div>\n<style scoped>\n    .dataframe tbody tr th:only-of-type {\n        vertical-align: middle;\n    }\n\n    .dataframe tbody tr th {\n        vertical-align: top;\n    }\n\n    .dataframe thead th {\n        text-align: right;\n    }\n</style>\n<table border=\"1\" class=\"dataframe\">\n  <thead>\n    <tr style=\"text-align: right;\">\n      <th></th>\n      <th>jarak_pasar</th>\n      <th>kepadatan_penduduk</th>\n      <th>jarak_pabrik</th>\n      <th>jarak_gudang</th>\n      <th>harga_tanah</th>\n    </tr>\n  </thead>\n  <tbody>\n    <tr>\n      <th>0</th>\n      <td>0.75</td>\n      <td>2000</td>\n      <td>18</td>\n      <td>50</td>\n      <td>500</td>\n    </tr>\n    <tr>\n      <th>1</th>\n      <td>0.50</td>\n      <td>1500</td>\n      <td>20</td>\n      <td>40</td>\n      <td>450</td>\n    </tr>\n    <tr>\n      <th>2</th>\n      <td>0.90</td>\n      <td>2050</td>\n      <td>35</td>\n      <td>35</td>\n      <td>800</td>\n    </tr>\n  </tbody>\n</table>\n</div>"
     },
     "metadata": {},
     "execution_count": 3
    }
   ],
   "source": [
    "df = pd.read_csv(\"input.csv\")\n",
    "df.head()"
   ]
  },
  {
   "cell_type": "code",
   "execution_count": 5,
   "metadata": {},
   "outputs": [
    {
     "output_type": "execute_result",
     "data": {
      "text/plain": [
       "array([[7.50e-01, 2.00e+03, 1.80e+01, 5.00e+01, 5.00e+02],\n",
       "       [5.00e-01, 1.50e+03, 2.00e+01, 4.00e+01, 4.50e+02],\n",
       "       [9.00e-01, 2.05e+03, 3.50e+01, 3.50e+01, 8.00e+02]])"
      ]
     },
     "metadata": {},
     "execution_count": 5
    }
   ],
   "source": [
    "matrix = df.values\n",
    "matrix"
   ]
  },
  {
   "cell_type": "code",
   "execution_count": 14,
   "metadata": {},
   "outputs": [
    {
     "output_type": "execute_result",
     "data": {
      "text/plain": [
       "array([[0.5888015 , 0.61861423, 0.40772429, 0.68518871, 0.47836487],\n",
       "       [0.39253434, 0.46396067, 0.45302699, 0.54815097, 0.43052839],\n",
       "       [0.7065618 , 0.63407959, 0.79279723, 0.4796321 , 0.7653838 ]])"
      ]
     },
     "metadata": {},
     "execution_count": 14
    }
   ],
   "source": [
    "#NORMALISASI\n",
    "normalised_matrix = []\n",
    "for row in matrix.T:\n",
    "    div = np.sqrt(sum([a**2 for a in row]))\n",
    "    normalised_matrix.append([a/div for a in row])\n",
    "normalised_matrix = np.array(normalised_matrix).T\n",
    "normalised_matrix"
   ]
  },
  {
   "cell_type": "code",
   "execution_count": 16,
   "metadata": {},
   "outputs": [
    {
     "output_type": "execute_result",
     "data": {
      "text/plain": [
       "array([[2.94400752, 1.8558427 , 1.63089716, 2.74075484, 0.95672975],\n",
       "       [1.96267168, 1.39188202, 1.81210796, 2.19260387, 0.86105677],\n",
       "       [3.53280902, 1.90223876, 3.17118893, 1.91852839, 1.53076759]])"
      ]
     },
     "metadata": {},
     "execution_count": 16
    }
   ],
   "source": [
    "#PEMBOBOTAN\n",
    "weights = [5, 3, 4, 4, 2]\n",
    "weighted_matrix = normalised_matrix*weights\n",
    "weighted_matrix"
   ]
  },
  {
   "cell_type": "code",
   "execution_count": 18,
   "metadata": {},
   "outputs": [
    {
     "output_type": "stream",
     "name": "stdout",
     "text": [
      "Positive Ideal:\n[1.96267168 1.90223876 1.63089716 2.74075484 0.86105677]\nNegative Ideal:\n[3.53280902 1.39188202 3.17118893 1.91852839 1.53076759]\n"
     ]
    }
   ],
   "source": [
    "#MENCARI SOLUSI IDEAL POSITIF & NEGATIF\n",
    "benefit = [False, True, False, True, False]\n",
    "positive_ideal = []\n",
    "negative_ideal = []\n",
    "for i in range(len(benefit)):\n",
    "    if benefit[i]:\n",
    "        positive_ideal.append(max(weighted_matrix.T[i]))\n",
    "        negative_ideal.append(min(weighted_matrix.T[i]))\n",
    "    else :\n",
    "        positive_ideal.append(min(weighted_matrix.T[i]))\n",
    "        negative_ideal.append(max(weighted_matrix.T[i]))\n",
    "positive_ideal = np.array(positive_ideal)\n",
    "negative_ideal = np.array(negative_ideal)\n",
    "print(\"Positive Ideal:\")\n",
    "print(positive_ideal)\n",
    "print(\"Negative Ideal:\")\n",
    "print(negative_ideal)"
   ]
  },
  {
   "cell_type": "code",
   "execution_count": 41,
   "metadata": {},
   "outputs": [
    {
     "output_type": "stream",
     "name": "stdout",
     "text": [
      "Positive Distance:\n[0.9870795  0.77056527 2.44180239]\nNegative Distance:\n[1.98494867 2.19910489 0.51035674]\n"
     ]
    }
   ],
   "source": [
    "#MENGHITUNG JARAK DENGAN IDEAL\n",
    "positive_distance = np.sqrt(((weighted_matrix-positive_ideal)**2).sum(axis=1))\n",
    "negative_distance = np.sqrt(((weighted_matrix-negative_ideal)**2).sum(axis=1))\n",
    "print(\"Positive Distance:\")\n",
    "print(positive_distance)\n",
    "print(\"Negative Distance:\")\n",
    "print(negative_distance)"
   ]
  },
  {
   "cell_type": "code",
   "execution_count": 42,
   "metadata": {},
   "outputs": [
    {
     "output_type": "execute_result",
     "data": {
      "text/plain": [
       "[0.6678768016498927, 0.7405215963672054, 0.1728757559008171]"
      ]
     },
     "metadata": {},
     "execution_count": 42
    }
   ],
   "source": [
    "#MENGHITUNG NILAI PREFERENSI\n",
    "v = [a/(a+b) for a,b in zip(negative_distance, positive_distance)]\n",
    "v"
   ]
  },
  {
   "cell_type": "code",
   "execution_count": 43,
   "metadata": {},
   "outputs": [
    {
     "output_type": "execute_result",
     "data": {
      "text/plain": [
       "1"
      ]
     },
     "metadata": {},
     "execution_count": 43
    }
   ],
   "source": [
    "np.argmax(v)"
   ]
  },
  {
   "cell_type": "code",
   "execution_count": null,
   "metadata": {},
   "outputs": [],
   "source": []
  }
 ]
}